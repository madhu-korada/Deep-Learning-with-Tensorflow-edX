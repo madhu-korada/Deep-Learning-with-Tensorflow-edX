{
 "cells": [
  {
   "cell_type": "code",
   "execution_count": 2,
   "metadata": {},
   "outputs": [],
   "source": [
    "import matplotlib.pyplot as plt\n",
    "import pandas as pd\n",
    "import pylab as pl\n",
    "import numpy as np\n",
    "import tensorflow as tf\n",
    "import matplotlib.patches as mpatches\n",
    "import matplotlib.pyplot as plt\n",
    "%matplotlib inline\n",
    "plt.rcParams['figure.figsize'] = (10, 6)"
   ]
  },
  {
   "cell_type": "code",
   "execution_count": 3,
   "metadata": {},
   "outputs": [
    {
     "data": {
      "text/plain": [
       "array([0. , 0.1, 0.2, 0.3, 0.4, 0.5, 0.6, 0.7, 0.8, 0.9, 1. , 1.1, 1.2,\n",
       "       1.3, 1.4, 1.5, 1.6, 1.7, 1.8, 1.9, 2. , 2.1, 2.2, 2.3, 2.4, 2.5,\n",
       "       2.6, 2.7, 2.8, 2.9, 3. , 3.1, 3.2, 3.3, 3.4, 3.5, 3.6, 3.7, 3.8,\n",
       "       3.9, 4. , 4.1, 4.2, 4.3, 4.4, 4.5, 4.6, 4.7, 4.8, 4.9])"
      ]
     },
     "execution_count": 3,
     "metadata": {},
     "output_type": "execute_result"
    }
   ],
   "source": [
    "# take some random values as x\n",
    "X = np.arange(0.0, 5.0, 0.1)\n",
    "X"
   ]
  },
  {
   "cell_type": "code",
   "execution_count": 4,
   "metadata": {},
   "outputs": [
    {
     "data": {
      "image/png": "[encoded data removed]",
      "text/plain": [
       "<Figure size 432x288 with 1 Axes>"
      ]
     },
     "metadata": {
      "needs_background": "light"
     },
     "output_type": "display_data"
    }
   ],
   "source": [
    "##You can adjust the slope and intercept to verify the changes in the graph\n",
    "a = 1 # weight\n",
    "b = 0 # bias\n",
    "\n",
    "Y = a * X + b\n",
    "\n",
    "plt.plot(X,Y)\n",
    "plt.xlabel('Independent variable')\n",
    "plt.ylabel('Dependent Variable')\n",
    "plt.show()"
   ]
  },
  {
   "cell_type": "code",
   "execution_count": 6,
   "metadata": {},
   "outputs": [
    {
     "data": {
      "text/plain": [
       "'C:\\\\Users\\\\madhu'"
      ]
     },
     "execution_count": 6,
     "metadata": {},
     "output_type": "execute_result"
    }
   ],
   "source": [
    "pwd"
   ]
  },
  {
   "cell_type": "code",
   "execution_count": 7,
   "metadata": {},
   "outputs": [
    {
     "data": {
      "text/html": [
       "<div>\n",
       "<style scoped>\n",
       "    .dataframe tbody tr th:only-of-type {\n",
       "        vertical-align: middle;\n",
       "    }\n",
       "\n",
       "    .dataframe tbody tr th {\n",
       "        vertical-align: top;\n",
       "    }\n",
       "\n",
       "    .dataframe thead th {\n",
       "        text-align: right;\n",
       "    }\n",
       "</style>\n",
       "<table border=\"1\" class=\"dataframe\">\n",
       "  <thead>\n",
       "    <tr style=\"text-align: right;\">\n",
       "      <th></th>\n",
       "      <th>MODEL YEAR</th>\n",
       "      <th>MAKE</th>\n",
       "      <th>MODEL</th>\n",
       "      <th>VEHICLE CLASS</th>\n",
       "      <th>MOTOR(kW)</th>\n",
       "      <th>ENGINESIZE(L)</th>\n",
       "      <th>CYLINDERS</th>\n",
       "      <th>TRANSMISSION</th>\n",
       "      <th>FUEL 1</th>\n",
       "      <th>CONSUMPTION</th>\n",
       "      <th>RANGE 1</th>\n",
       "      <th>RECHARGE</th>\n",
       "      <th>FUEL2</th>\n",
       "      <th>CONSUMPTION CITY (L/100 km)</th>\n",
       "      <th>HWY (L/100 km)</th>\n",
       "      <th>COMB (L/100 km)</th>\n",
       "      <th>RANGE 2</th>\n",
       "      <th>CO2 EMISSIONS</th>\n",
       "      <th>CO2</th>\n",
       "      <th>SMOG</th>\n",
       "    </tr>\n",
       "  </thead>\n",
       "  <tbody>\n",
       "    <tr>\n",
       "      <th>0</th>\n",
       "      <td>2012</td>\n",
       "      <td>CHEVROLET</td>\n",
       "      <td>VOLT</td>\n",
       "      <td>COMPACT</td>\n",
       "      <td>111</td>\n",
       "      <td>1.4</td>\n",
       "      <td>4</td>\n",
       "      <td>AV</td>\n",
       "      <td>B</td>\n",
       "      <td>2.5 (22.3 kWh/100 km)</td>\n",
       "      <td>56</td>\n",
       "      <td>4.0</td>\n",
       "      <td>Z</td>\n",
       "      <td>6.7</td>\n",
       "      <td>5.9</td>\n",
       "      <td>6.4</td>\n",
       "      <td>550</td>\n",
       "      <td>54</td>\n",
       "      <td>NaN</td>\n",
       "      <td>NaN</td>\n",
       "    </tr>\n",
       "    <tr>\n",
       "      <th>1</th>\n",
       "      <td>2013</td>\n",
       "      <td>CHEVROLET</td>\n",
       "      <td>VOLT</td>\n",
       "      <td>COMPACT</td>\n",
       "      <td>111</td>\n",
       "      <td>1.4</td>\n",
       "      <td>4</td>\n",
       "      <td>AV</td>\n",
       "      <td>B</td>\n",
       "      <td>2.4 (21.4 kWh/100 km)</td>\n",
       "      <td>61</td>\n",
       "      <td>4.0</td>\n",
       "      <td>Z</td>\n",
       "      <td>6.7</td>\n",
       "      <td>5.9</td>\n",
       "      <td>6.4</td>\n",
       "      <td>550</td>\n",
       "      <td>45</td>\n",
       "      <td>NaN</td>\n",
       "      <td>NaN</td>\n",
       "    </tr>\n",
       "    <tr>\n",
       "      <th>2</th>\n",
       "      <td>2013</td>\n",
       "      <td>FORD</td>\n",
       "      <td>C-MAX ENERGI</td>\n",
       "      <td>MID-SIZE</td>\n",
       "      <td>68</td>\n",
       "      <td>2.0</td>\n",
       "      <td>4</td>\n",
       "      <td>AV</td>\n",
       "      <td>B/X</td>\n",
       "      <td>2.7 ([23.2 kWh + 0.1 L]/100 km)</td>\n",
       "      <td>32</td>\n",
       "      <td>2.5</td>\n",
       "      <td>X</td>\n",
       "      <td>5.8</td>\n",
       "      <td>6.5</td>\n",
       "      <td>6.1</td>\n",
       "      <td>856</td>\n",
       "      <td>80</td>\n",
       "      <td>NaN</td>\n",
       "      <td>NaN</td>\n",
       "    </tr>\n",
       "    <tr>\n",
       "      <th>3</th>\n",
       "      <td>2013</td>\n",
       "      <td>FORD</td>\n",
       "      <td>FUSION ENERGI</td>\n",
       "      <td>MID-SIZE</td>\n",
       "      <td>68</td>\n",
       "      <td>2.0</td>\n",
       "      <td>4</td>\n",
       "      <td>AV</td>\n",
       "      <td>B/X</td>\n",
       "      <td>2.7 ([23.2 kWh + 0.1 L]/100 km)</td>\n",
       "      <td>32</td>\n",
       "      <td>2.5</td>\n",
       "      <td>X</td>\n",
       "      <td>5.8</td>\n",
       "      <td>6.5</td>\n",
       "      <td>6.1</td>\n",
       "      <td>856</td>\n",
       "      <td>80</td>\n",
       "      <td>NaN</td>\n",
       "      <td>NaN</td>\n",
       "    </tr>\n",
       "    <tr>\n",
       "      <th>4</th>\n",
       "      <td>2013</td>\n",
       "      <td>TOYOTA</td>\n",
       "      <td>PRIUS PLUG-IN</td>\n",
       "      <td>MID-SIZE</td>\n",
       "      <td>60</td>\n",
       "      <td>1.8</td>\n",
       "      <td>4</td>\n",
       "      <td>AV</td>\n",
       "      <td>B/X</td>\n",
       "      <td>2.5 ([18.0 kWh + 0.4 L]/100 km)</td>\n",
       "      <td>18</td>\n",
       "      <td>1.5</td>\n",
       "      <td>X</td>\n",
       "      <td>4.7</td>\n",
       "      <td>4.8</td>\n",
       "      <td>4.7</td>\n",
       "      <td>845</td>\n",
       "      <td>101</td>\n",
       "      <td>NaN</td>\n",
       "      <td>NaN</td>\n",
       "    </tr>\n",
       "  </tbody>\n",
       "</table>\n",
       "</div>"
      ],
      "text/plain": [
       "   MODEL YEAR       MAKE          MODEL VEHICLE CLASS  MOTOR(kW)  \\\n",
       "0        2012  CHEVROLET           VOLT       COMPACT        111   \n",
       "1        2013  CHEVROLET           VOLT       COMPACT        111   \n",
       "2        2013       FORD   C-MAX ENERGI      MID-SIZE         68   \n",
       "3        2013       FORD  FUSION ENERGI      MID-SIZE         68   \n",
       "4        2013     TOYOTA  PRIUS PLUG-IN      MID-SIZE         60   \n",
       "\n",
       "   ENGINESIZE(L)  CYLINDERS TRANSMISSION FUEL 1  \\\n",
       "0            1.4          4           AV      B   \n",
       "1            1.4          4           AV      B   \n",
       "2            2.0          4           AV    B/X   \n",
       "3            2.0          4           AV    B/X   \n",
       "4            1.8          4           AV    B/X   \n",
       "\n",
       "                       CONSUMPTION  RANGE 1  RECHARGE FUEL2  \\\n",
       "0            2.5 (22.3 kWh/100 km)       56       4.0     Z   \n",
       "1            2.4 (21.4 kWh/100 km)       61       4.0     Z   \n",
       "2  2.7 ([23.2 kWh + 0.1 L]/100 km)       32       2.5     X   \n",
       "3  2.7 ([23.2 kWh + 0.1 L]/100 km)       32       2.5     X   \n",
       "4  2.5 ([18.0 kWh + 0.4 L]/100 km)       18       1.5     X   \n",
       "\n",
       "   CONSUMPTION CITY (L/100 km)  HWY (L/100 km)  COMB (L/100 km)  RANGE 2  \\\n",
       "0                          6.7             5.9              6.4      550   \n",
       "1                          6.7             5.9              6.4      550   \n",
       "2                          5.8             6.5              6.1      856   \n",
       "3                          5.8             6.5              6.1      856   \n",
       "4                          4.7             4.8              4.7      845   \n",
       "\n",
       "   CO2 EMISSIONS  CO2  SMOG  \n",
       "0             54  NaN   NaN  \n",
       "1             45  NaN   NaN  \n",
       "2             80  NaN   NaN  \n",
       "3             80  NaN   NaN  \n",
       "4            101  NaN   NaN  "
      ]
     },
     "execution_count": 7,
     "metadata": {},
     "output_type": "execute_result"
    }
   ],
   "source": [
    "df = pd.read_csv(\"MY2012-2018 Plug-in Hybrid Electric Vehicles.csv\")\n",
    "\n",
    "# take a look at the dataset\n",
    "df.head()"
   ]
  },
  {
   "cell_type": "code",
   "execution_count": 8,
   "metadata": {},
   "outputs": [],
   "source": [
    "train_x = np.asanyarray(df[['ENGINESIZE(L)']])\n",
    "train_y = np.asanyarray(df[['CO2 EMISSIONS']])"
   ]
  },
  {
   "cell_type": "code",
   "execution_count": 9,
   "metadata": {},
   "outputs": [
    {
     "data": {
      "text/plain": [
       "<tf.Tensor 'add:0' shape=(80, 1) dtype=float32>"
      ]
     },
     "execution_count": 9,
     "metadata": {},
     "output_type": "execute_result"
    }
   ],
   "source": [
    "a = tf.Variable(10.0)\n",
    "b = tf.Variable(15.0)\n",
    " \n",
    "#op = tf.global_variables_initializer()\n",
    "y = a * train_x + b\n",
    "y\n",
    "# with tf.Session() as sess:\n",
    "#     result = sess.run(y)\n",
    "#     print(result)"
   ]
  },
  {
   "cell_type": "code",
   "execution_count": 10,
   "metadata": {},
   "outputs": [],
   "source": [
    "loss = tf.reduce_mean(tf.square(y - train_y))"
   ]
  },
  {
   "cell_type": "code",
   "execution_count": 11,
   "metadata": {},
   "outputs": [],
   "source": [
    "optimizer = tf.train.GradientDescentOptimizer(0.05)"
   ]
  },
  {
   "cell_type": "code",
   "execution_count": 12,
   "metadata": {},
   "outputs": [],
   "source": [
    "train = optimizer.minimize(loss)"
   ]
  },
  {
   "cell_type": "code",
   "execution_count": 13,
   "metadata": {},
   "outputs": [],
   "source": [
    "init = tf.global_variables_initializer()\n",
    "sess = tf.Session()\n",
    "sess.run(init)"
   ]
  },
  {
   "cell_type": "code",
   "execution_count": 14,
   "metadata": {},
   "outputs": [
    {
     "name": "stdout",
     "output_type": "stream",
     "text": [
      "0 5340.4873 10.0 15.0\n",
      "5 1145.8268 35.235207 25.989786\n",
      "10 1142.3793 36.044323 25.764936\n",
      "15 1141.3093 36.274483 25.300604\n",
      "20 1140.3351 36.481606 24.851446\n",
      "25 1139.447 36.67907 24.422459\n",
      "30 1138.6373 36.8676 24.01286\n",
      "35 1137.8993 37.04761 23.621778\n",
      "40 1137.2263 37.219482 23.248375\n",
      "45 1136.613 37.383583 22.891851\n",
      "50 1136.0537 37.540264 22.551445\n",
      "55 1135.5441 37.689865 22.226427\n",
      "60 1135.0793 37.832703 21.916101\n",
      "65 1134.6555 37.96908 21.619806\n",
      "70 1134.2693 38.0993 21.336903\n",
      "75 1133.9172 38.223625 21.06679\n",
      "80 1133.5962 38.342335 20.808886\n",
      "85 1133.3035 38.455677 20.562643\n",
      "90 1133.0367 38.563896 20.327532\n",
      "95 1132.7937 38.66722 20.103046\n"
     ]
    }
   ],
   "source": [
    "loss_values = []\n",
    "train_data = []\n",
    "\n",
    "for step in range(100):\n",
    "    num, loss_val, a_val, b_val = sess.run([train, loss, a, b])\n",
    "    loss_values.append(loss_val)\n",
    "    if step % 5 ==0:\n",
    "        print(step, loss_val, a_val, b_val)\n",
    "        train_data.append([a_val, b_val])"
   ]
  },
  {
   "cell_type": "code",
   "execution_count": 15,
   "metadata": {},
   "outputs": [
    {
     "data": {
      "text/plain": [
       "[<matplotlib.lines.Line2D at 0x240c3ea1438>]"
      ]
     },
     "execution_count": 15,
     "metadata": {},
     "output_type": "execute_result"
    },
    {
     "data": {
      "image/png": "[encoded data removed]",
      "text/plain": [
       "<Figure size 432x288 with 1 Axes>"
      ]
     },
     "metadata": {
      "needs_background": "light"
     },
     "output_type": "display_data"
    }
   ],
   "source": [
    "plt.plot(loss_values, 'ro')"
   ]
  },
  {
   "cell_type": "code",
   "execution_count": 16,
   "metadata": {},
   "outputs": [
    {
     "data": {
      "image/png": "[encoded data removed]",
      "text/plain": [
       "<Figure size 432x288 with 1 Axes>"
      ]
     },
     "metadata": {
      "needs_background": "light"
     },
     "output_type": "display_data"
    }
   ],
   "source": [
    "cr, cg, cb = (1.0, 1.0, 0.0)\n",
    "for f in train_data:\n",
    "    cb += 1.0 / len(train_data)\n",
    "    cg -= 1.0 / len(train_data)\n",
    "    if cb > 1.0: cb = 1.0\n",
    "    if cg < 0.0: cg = 0.0\n",
    "    [a, b] = f\n",
    "    f_y = np.vectorize(lambda x: a*x + b)(train_x)\n",
    "    line = plt.plot(train_x, f_y)\n",
    "    plt.setp(line, color=(cr,cg,cb))\n",
    "\n",
    "plt.plot(train_x, train_y, 'ro')\n",
    "\n",
    "\n",
    "green_line = mpatches.Patch(color='red', label='Data Points')\n",
    "\n",
    "plt.legend(handles=[green_line])\n",
    "\n",
    "plt.show()"
   ]
  },
  {
   "cell_type": "code",
   "execution_count": null,
   "metadata": {},
   "outputs": [],
   "source": []
  }
 ],
 "metadata": {
  "kernelspec": {
   "display_name": "Python 3",
   "language": "python",
   "name": "python3"
  },
  "language_info": {
   "codemirror_mode": {
    "name": "ipython",
    "version": 3
   },
   "file_extension": ".py",
   "mimetype": "text/x-python",
   "name": "python",
   "nbconvert_exporter": "python",
   "pygments_lexer": "ipython3",
   "version": "3.5.6"
  }
 },
 "nbformat": 4,
 "nbformat_minor": 2
}
